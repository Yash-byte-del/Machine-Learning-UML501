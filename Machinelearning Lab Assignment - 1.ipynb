{
 "cells": [
  {
   "cell_type": "code",
   "execution_count": 12,
   "id": "9ea01f49-256f-4715-9e50-bd68778064f2",
   "metadata": {},
   "outputs": [
    {
     "name": "stdout",
     "output_type": "stream",
     "text": [
      "[1 2 3 6 4 5]\n",
      "[5 4 6 3 2 1]\n"
     ]
    }
   ],
   "source": [
    "import numpy as np\n",
    "#Q1: Questions on Basic NumPy Array \n",
    "#(a) Reverse the NumPy array: arr = np.array([1, 2, 3, 6, 4, 5]) \n",
    "arr = np.array([1,2,3,6,4,5])\n",
    "print(arr)\n",
    "reverse_arr = arr[::-1]\n",
    "print(reverse_arr)"
   ]
  },
  {
   "cell_type": "code",
   "execution_count": 14,
   "id": "c6f7fc84-d53c-4ab9-af47-066c4e541f5f",
   "metadata": {},
   "outputs": [
    {
     "name": "stdout",
     "output_type": "stream",
     "text": [
      "[1 2 3 2 4 5 1 2 3]\n"
     ]
    }
   ],
   "source": [
    "#(b) Flatten the NumPy arr: array1 = np.array([[1, 2, 3], [2, 4, 5], [1, 2, 3]]) using any two NumPy in-built methods  \n",
    "array1 = np.array([[1,2,3],[2,4,5],[1,2,3]])\n",
    "print(array1.flatten())"
   ]
  },
  {
   "cell_type": "code",
   "execution_count": 16,
   "id": "9e7bc4c6-db6c-4f8b-87c1-70625843d596",
   "metadata": {},
   "outputs": [
    {
     "name": "stdout",
     "output_type": "stream",
     "text": [
      "[[ True  True]\n",
      " [ True  True]]\n"
     ]
    }
   ],
   "source": [
    "#(c) Compare the following numpy arrays: arr1 = np.array([[1, 2], [3, 4]]) ,arr2 = np.array([[1, 2], [3, 4]]) \n",
    "arr1 = np.array([[1,2],[3,4]])\n",
    "arr2 = np.array([[1,2],[3,4]])\n",
    "print(arr1 == arr2)"
   ]
  },
  {
   "cell_type": "code",
   "execution_count": 18,
   "id": "b96e2e5b-f00d-4e2a-9fc7-286c1db3af2b",
   "metadata": {},
   "outputs": [
    {
     "data": {
      "text/plain": [
       "(array([1, 2, 3, 4, 5]),\n",
       " array([0, 1, 2, 3, 4], dtype=int64),\n",
       " array([0, 1, 2, 3, 4, 0, 1, 0, 0, 0], dtype=int64),\n",
       " array([5, 2, 1, 1, 1], dtype=int64))"
      ]
     },
     "execution_count": 18,
     "metadata": {},
     "output_type": "execute_result"
    }
   ],
   "source": [
    "#(d) Find the most frequent value and their indice(s) in the following arrays: i. x = np.array([1,2,3,4,5,1,2,1,1,1]),ii. y = np.array([1, 1, 1, 2, 3, 4, 2, 4, 3, 3, ])\n",
    "x = np.array([1,2,3,4,5,1,2,1,1,1])\n",
    "np.unique(x,return_inverse=True,return_index=True,return_counts=True)"
   ]
  },
  {
   "cell_type": "code",
   "execution_count": 20,
   "id": "befe61b5-b01d-4e0d-b6f9-3d3fb4c5b82d",
   "metadata": {},
   "outputs": [
    {
     "data": {
      "text/plain": [
       "(array([1, 2, 3, 4]),\n",
       " array([0, 3, 4, 5], dtype=int64),\n",
       " array([0, 0, 0, 1, 2, 3, 1, 3, 2, 2], dtype=int64),\n",
       " array([3, 2, 3, 2], dtype=int64))"
      ]
     },
     "execution_count": 20,
     "metadata": {},
     "output_type": "execute_result"
    }
   ],
   "source": [
    "y = np.array([1, 1, 1, 2, 3, 4, 2, 4, 3, 3, ])\n",
    "np.unique(y,return_inverse=True,return_index=True,return_counts=True)"
   ]
  },
  {
   "cell_type": "code",
   "execution_count": 26,
   "id": "67508ead-4edb-4900-9758-087de61cf2ec",
   "metadata": {},
   "outputs": [
    {
     "name": "stdout",
     "output_type": "stream",
     "text": [
      "45\n",
      "[[14]\n",
      " [16]\n",
      " [15]]\n",
      "[[20  9 16]]\n"
     ]
    }
   ],
   "source": [
    " #For the array gfg = np.matrix('[4, 1, 9; 12, 3, 1; 4, 5, 6]'), find \n",
    "#i.Sum of all elements \n",
    "#ii.Sum of all elements row-wise  \n",
    "#iii.Sum of all elements column-wise \n",
    "gfg = np.matrix('[4, 1, 9; 12, 3, 1; 4, 5, 6]')\n",
    "print(gfg.sum())\n",
    "print(gfg.sum(axis=1))\n",
    "print(gfg.sum(axis=0))"
   ]
  },
  {
   "cell_type": "code",
   "execution_count": 36,
   "id": "9d8bb01b-cdc3-44b6-a8c7-94777b3b5b36",
   "metadata": {},
   "outputs": [
    {
     "name": "stdout",
     "output_type": "stream",
     "text": [
      "176\n",
      "EigResult(eigenvalues=array([98.16835147, 28.097044  , 49.73460452]), eigenvectors=array([[ 0.4574917 ,  0.34637121, -0.15017693],\n",
      "       [ 0.28447814, -0.72784061, -0.4852124 ],\n",
      "       [ 0.84248058,  0.59184038,  0.8614034 ]]))\n",
      "[[ 0.02404141 -0.00911212 -0.00444671]\n",
      " [-0.01667882  0.02966905  0.0024785 ]\n",
      " [ 0.00631287 -0.01603732  0.01217379]]\n",
      "137180.0000000001\n"
     ]
    }
   ],
   "source": [
    "#(f) For the matrix: n_array = np.array([[55, 25, 15],[30, 44, 2],[11, 45, 77]]), find \n",
    "#i.Sum of diagonal elements \n",
    "#ii.Eigen values of matrix  \n",
    "#iii.Eigen vectors of matrix  \n",
    "#iv.Inverse of matrix  \n",
    "#v.Determinant of matrix  \n",
    "n_array = np.array([[55, 25, 15],[30, 44, 2],[11, 45, 77]])\n",
    "print(np.trace(n_array))\n",
    "print(np.linalg.eig(n_array))\n",
    "print(np.linalg.inv(n_array))\n",
    "print(np.linalg.det(n_array))"
   ]
  },
  {
   "cell_type": "code",
   "execution_count": 48,
   "id": "e9f2d3d0-d51a-4bdc-8c57-03068646de6b",
   "metadata": {},
   "outputs": [
    {
     "name": "stdout",
     "output_type": "stream",
     "text": [
      "[[16 19]\n",
      " [26 31]]\n",
      "[[0.66666667 1.        ]\n",
      " [1.         1.66666667]]\n",
      "[[16 19  5]\n",
      " [26 31  8]\n",
      " [46 55 14]]\n",
      "[[2.16666667 0.23333333]\n",
      " [0.23333333 5.36666667]]\n"
     ]
    }
   ],
   "source": [
    "#(g) Multiply the following matrices and also find covariance between matrices using NumPy: \n",
    "#i. p = [[1, 2], [2, 3]] \n",
    "   #q = [[4, 5], [6, 7]] \n",
    "#ii.p = [[1, 2], [2, 3], [4, 5]] \n",
    "   #q = [[4, 5, 1], [6, 7, 2]] \n",
    "p1 = np.array([[1,2],[2,3]])\n",
    "q1 = np.array([[4,5],[6,7]])\n",
    "print(np.dot(p1,q1))\n",
    "print(np.cov(p1.flatten(),q1.flatten()))\n",
    "\n",
    "p2 = np.array([[1, 2], [2, 3], [4, 5]] )\n",
    "q2 = np.array([[4, 5, 1], [6, 7, 2]])\n",
    "print(np.dot(p2,q2))\n",
    "print(np.cov(p2.flatten(),q2.flatten()))"
   ]
  },
  {
   "cell_type": "code",
   "execution_count": 11,
   "id": "37a7e48d-7da0-4ceb-a9bb-27c33793026e",
   "metadata": {},
   "outputs": [
    {
     "name": "stdout",
     "output_type": "stream",
     "text": [
      "[[17 52]\n",
      " [13 62]]\n",
      "[[ 2 10  0 10 20  6]\n",
      " [ 3 15  0 15 30  9]\n",
      " [ 4 20  0 20 40 12]\n",
      " [ 3 15  0 15 30  9]\n",
      " [ 2 10  0 10 20  6]\n",
      " [ 9 45  0 45 90 27]]\n",
      "[[ 2  1]\n",
      " [ 2  5]\n",
      " [ 2  0]\n",
      " [ 2  5]\n",
      " [ 2 10]\n",
      " [ 2  3]\n",
      " [ 3  1]\n",
      " [ 3  5]\n",
      " [ 3  0]\n",
      " [ 3  5]\n",
      " [ 3 10]\n",
      " [ 3  3]\n",
      " [ 4  1]\n",
      " [ 4  5]\n",
      " [ 4  0]\n",
      " [ 4  5]\n",
      " [ 4 10]\n",
      " [ 4  3]\n",
      " [ 3  1]\n",
      " [ 3  5]\n",
      " [ 3  0]\n",
      " [ 3  5]\n",
      " [ 3 10]\n",
      " [ 3  3]\n",
      " [ 2  1]\n",
      " [ 2  5]\n",
      " [ 2  0]\n",
      " [ 2  5]\n",
      " [ 2 10]\n",
      " [ 2  3]\n",
      " [ 9  1]\n",
      " [ 9  5]\n",
      " [ 9  0]\n",
      " [ 9  5]\n",
      " [ 9 10]\n",
      " [ 9  3]]\n"
     ]
    }
   ],
   "source": [
    "import numpy as np\n",
    "#(h) For the matrices: x = np.array([[2, 3, 4], [3, 2, 9]]); y = np.array([[1, 5, 0], [5, 10, 3]]),find inner, outer and cartesian product? \n",
    "x = np.array([[2,3,4],[3,2,9]])\n",
    "y = np.array([[1,5,0],[5,10,3]])\n",
    "print(np.inner(x,y))\n",
    "print(np.outer(x.flatten(),y.flatten()))\n",
    "from itertools import product\n",
    "cartesian = np.array(list(product(x.flatten(), y.flatten())))\n",
    "print(cartesian)"
   ]
  },
  {
   "cell_type": "code",
   "execution_count": 13,
   "id": "d8973f82-3f99-44bd-8244-4540a0f816c4",
   "metadata": {},
   "outputs": [
    {
     "name": "stdout",
     "output_type": "stream",
     "text": [
      "[[1 2 3]\n",
      " [4 5 6]]\n",
      "[-3.5 -0.5  2.5]\n",
      "[[-2.75 -0.25 -3.75]\n",
      " [-1.5   1.5  -1.5 ]\n",
      " [-0.25  3.25  0.75]]\n",
      "[[-0.5 -5. ]\n",
      " [ 1.  -4. ]\n",
      " [ 2.   0.5]]\n",
      "-0.5 -0.5 3.8622100754188224\n",
      "[-1.5  1.5 -1.5]\n",
      "[-1.5  1.5 -1.5]\n",
      "[2.5 3.5 4.5]\n",
      "[ 0.66666667 -1.66666667]\n",
      "[ 1. -4.]\n",
      "[2.05480467 4.78423336]\n"
     ]
    }
   ],
   "source": [
    "#(a)For the array: array = np.array([[1, -2, 3],[-4, 5, -6]]) \n",
    "array = np.array([[1, -2, 3],[-4, 5, -6]])\n",
    "#i. Find element-wise absolute value \n",
    "print(np.abs(array))\n",
    "#ii. Find the 25th, 50th, and 75th percentile of flattened array, for each column, for each row.\n",
    "flat = array.flatten()\n",
    "print(np.percentile(flat, [25, 50, 75]))\n",
    "print(np.percentile(array, [25, 50, 75], axis=0))\n",
    "print(np.percentile(array, [25, 50, 75], axis=1))\n",
    "#iii. Mean, Median and Standard Deviation of flattened array, of each column, and each row\n",
    "print(np.mean(flat), np.median(flat), np.std(flat))\n",
    "print(np.mean(array, axis=0))\n",
    "print(np.median(array, axis=0))\n",
    "print(np.std(array, axis=0))\n",
    "\n",
    "print(np.mean(array, axis=1))\n",
    "print(np.median(array, axis=1))\n",
    "print(np.std(array, axis=1))\n",
    "\n"
   ]
  },
  {
   "cell_type": "code",
   "execution_count": 17,
   "id": "8028de51-3c44-4d7d-91cd-e08c38f3eaf7",
   "metadata": {},
   "outputs": [
    {
     "name": "stdout",
     "output_type": "stream",
     "text": [
      "[-2. -2. -1.  0.  1.  1.  3.]\n",
      "[-1. -1. -0.  1.  2.  2.  3.]\n",
      "[-1. -1. -0.  0.  1.  1.  3.]\n",
      "[-2. -2. -0.  0.  2.  2.  3.]\n"
     ]
    }
   ],
   "source": [
    "#For the array: a = np.array([-1.8, -1.6, -0.5, 0.5,1.6, 1.8, 3.0]). Find floor, ceiling and truncated value, rounded values \n",
    "a = np.array([-1.8, -1.6, -0.5, 0.5,1.6, 1.8, 3.0])\n",
    "print(np.floor(a))\n",
    "print(np.ceil(a))\n",
    "print(np.trunc(a))\n",
    "print(np.round(a))\n"
   ]
  },
  {
   "cell_type": "code",
   "execution_count": 27,
   "id": "03c2edb6-707b-48d0-920a-da814dca8360",
   "metadata": {},
   "outputs": [
    {
     "name": "stdout",
     "output_type": "stream",
     "text": [
      "[ 10  16  16  52  54  62 453]\n",
      "[0 3 4 1 5 2 6]\n",
      "[10 16 16 52]\n",
      "[ 16  52  54  62 453]\n"
     ]
    }
   ],
   "source": [
    "#a) For the array: array = np.array([10, 52, 62, 16, 16, 54, 453]), find  \n",
    "#Sorted array,Indices of sorted array,4 smallest elements,5 largest elements \n",
    "\n",
    "array = np.array([10, 52, 62, 16, 16, 54, 453])\n",
    "print(np.sort(array))\n",
    "\n",
    "print(np.argsort(array))\n",
    "print(np.sort(array)[:4])\n",
    "print(np.sort(array)[-5:])\n"
   ]
  },
  {
   "cell_type": "code",
   "execution_count": 6,
   "id": "a68e51b5-9f40-47b1-98c2-4f47eca6c5d3",
   "metadata": {},
   "outputs": [
    {
     "name": "stdout",
     "output_type": "stream",
     "text": [
      "[1. 2. 3. 2.]\n",
      "[1.2 2.2]\n"
     ]
    }
   ],
   "source": [
    "import numpy as np\n",
    "#(b) For the array: array = np.array([1.0, 1.2, 2.2, 2.0, 3.0, 2.0]), find \n",
    "#i.Integer elements only \n",
    "array = np.array([1.0, 1.2, 2.2, 2.0, 3.0, 2.0])\n",
    "print(array[array == np.floor(array)])\n",
    "#ii.Float elements only \n",
    "print(array[array != np.floor(array)])\n"
   ]
  },
  {
   "cell_type": "code",
   "execution_count": null,
   "id": "59b6b912-55fc-4983-9655-c70eb9a95115",
   "metadata": {},
   "outputs": [],
   "source": []
  }
 ],
 "metadata": {
  "kernelspec": {
   "display_name": "Python [conda env:base] *",
   "language": "python",
   "name": "conda-base-py"
  },
  "language_info": {
   "codemirror_mode": {
    "name": "ipython",
    "version": 3
   },
   "file_extension": ".py",
   "mimetype": "text/x-python",
   "name": "python",
   "nbconvert_exporter": "python",
   "pygments_lexer": "ipython3",
   "version": "3.12.3"
  }
 },
 "nbformat": 4,
 "nbformat_minor": 5
}
